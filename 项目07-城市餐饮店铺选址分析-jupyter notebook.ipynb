{
 "cells": [
  {
   "cell_type": "raw",
   "metadata": {},
   "source": [
    "要求：\n",
    "① 计算出三个维度的指标得分\n",
    "② 评价方法：\n",
    "   口味 → 得分越高越好\n",
    "   性价比 → 得分越高越好\n",
    "   人均消费 → 价格适中即可\n",
    "③ 制作散点图，x轴为“人均消费”，y轴为“性价比得分”，点的大小为“口味得分”\n",
    "   绘制柱状图，分别显示“口味得分”、“性价比得分”\n",
    "   * （用bokeh做图）\n",
    "\n",
    "\n",
    "① 数据清洗，清除空值、为0的数据；\n",
    "② 口味指标计算方法 → 口味评分字段，按照餐饮类别分组算均值，再做标准化处理；\n",
    "③ 人均消费指标计算方法 → 人均消费字段，按照餐饮类别分组算均值，再做标准化处理\n",
    "④ 性价比指标计算方法 → 性价比 = （口味 + 环境 + 服务）/人均消费，按照餐饮类别分组算均值，再做标准化处理\n",
    "⑤ 数据计算之前，检查一下数据分布，去除异常值（以外限为标准）\n",
    "   * 这里排除了高端奢侈餐饮的数据干扰\n",
    "⑥ 注意，这里先分别计算三个指标，再合并数据（merge）作图，目的是指标之间的噪音数据不相互影响"
   ]
  },
  {
   "cell_type": "code",
   "execution_count": 131,
   "metadata": {},
   "outputs": [
    {
     "name": "stdout",
     "output_type": "stream",
     "text": [
      "加载数据96398 条\n"
     ]
    }
   ],
   "source": [
    "import numpy as np\n",
    "import pandas as pd\n",
    "import matplotlib.pyplot as plt\n",
    "import os\n",
    "import warnings\n",
    "warnings.filterwarnings('ignore')\n",
    "\n",
    "#(1) 加载数据\n",
    "os.chdir('D:\\\\工作\\\\数据分析学习\\\\数据分析师（网易）\\\\【代码+软件+课后答案】课程资料\\\\【非常重要】Python数据分析师微专业_课程资料\\\\CLASSDATA_ch06数据挖掘实战')\n",
    "df = pd.read_excel('上海餐饮数据.xlsx',sheetname = 0,header = 0)\n",
    "print('加载数据%i 条' %len(df))\n"
   ]
  },
  {
   "cell_type": "code",
   "execution_count": 38,
   "metadata": {},
   "outputs": [
    {
     "name": "stdout",
     "output_type": "stream",
     "text": [
      "Empty DataFrame\n",
      "Columns: [类别, 行政区, 点评数, 口味, 环境, 服务, 人均消费, 城市, Lng, Lat]\n",
      "Index: []\n",
      "Empty DataFrame\n",
      "Columns: [类别, 行政区, 点评数, 口味, 环境, 服务, 人均消费, 城市, Lng, Lat]\n",
      "Index: []\n"
     ]
    }
   ],
   "source": [
    "# 查看数据范围\n",
    "# print(df[df['口味'] == np.nan])\n",
    "# print(df[df['环境'] == np.nan])\n",
    "# print(df['服务'].max())\n",
    "# print(df['人均消费'].max())"
   ]
  },
  {
   "cell_type": "code",
   "execution_count": 214,
   "metadata": {},
   "outputs": [
    {
     "name": "stdout",
     "output_type": "stream",
     "text": [
      "处理数据0条\n"
     ]
    }
   ],
   "source": [
    "# (2) 数据清洗 + 添加字段\n",
    "# 删除空白值，取口味人均消费均大于0的值，增加字段\n",
    "data = df[['类别','口味','环境','服务','人均消费']]\n",
    "data.dropna(inplace=True)\n",
    "data = data[(data['口味']>0)&(data['人均消费']>0)]\n",
    "data['性价比'] = (df['口味'] + df['环境'] + df['服务'])/df['人均消费']\n",
    "print('处理数据%i条' %len(data[(data['口味']<=0)|(data['人均消费']<=0)]))"
   ]
  },
  {
   "cell_type": "code",
   "execution_count": 215,
   "metadata": {},
   "outputs": [
    {
     "name": "stdout",
     "output_type": "stream",
     "text": [
      "7.1\n"
     ]
    }
   ],
   "source": [
    "s = data['口味'].describe()\n",
    "s\n",
    "print(s['25%'])"
   ]
  },
  {
   "cell_type": "code",
   "execution_count": 216,
   "metadata": {},
   "outputs": [],
   "source": [
    "# （3）处理异常值\n",
    "def f2(data,col):\n",
    "    s = data[col].describe()     # 要是没有这一步的话，新版会报错（摊手）\n",
    "    q1 = s['25%']\n",
    "    q3 = s['75%']\n",
    "    iqr = q3 - q1\n",
    "    mi = q1 - 1.5 * iqr\n",
    "    ma = q3 + 1.5 * iqr\n",
    "#     data_e = data[(data[col] >= mi)&(data[col] <= ma)][['类别','服务']]\n",
    "    return data[(data[col] >= mi)&(data[col] <= ma)][['类别','服务']]\n",
    "\n",
    "# 做一次异常值清洗过后，其实还会有异常值，。。。一直都有异常值的"
   ]
  },
  {
   "cell_type": "code",
   "execution_count": 217,
   "metadata": {},
   "outputs": [
    {
     "name": "stdout",
     "output_type": "stream",
     "text": [
      "   类别   口味   环境   服务  人均消费       性价比\n",
      "0  烧烤  8.0  8.6  7.9   124  0.197581\n",
      "2  粤菜  6.7  7.2  6.6   141  0.145390\n",
      "3  海鲜  7.2  7.2  7.3   148  0.146622\n",
      "4  烧烤  7.2  7.6  7.0   143  0.152448\n",
      "5  本菜  8.2  8.9  8.4    66  0.386364\n"
     ]
    }
   ],
   "source": [
    "data_kw = f2(data, '口味')\n",
    "data_rj = f2(data,'人均消费')\n",
    "data_xjb = f2(data,'性价比')\n",
    "print(data.head())"
   ]
  },
  {
   "cell_type": "code",
   "execution_count": 218,
   "metadata": {},
   "outputs": [
    {
     "name": "stdout",
     "output_type": "stream",
     "text": [
      "Yes!\n"
     ]
    }
   ],
   "source": [
    "# （4）分组——均值——标准化 \n",
    "\n",
    "def f3(data,col):\n",
    "    col_name = col + '_norm'\n",
    "    data_gy = data.groupby('类别').mean()\n",
    "    data_gy.sort_values(by = col_name, inplace = True, ascending=False)\n",
    "    min_c= data_gy[col_name].min()\n",
    "    max_c= data_gy[col_name].max()\n",
    "#     data_gy_b = data_gy[(data_gy[col]-min_c)/(max_c-min_c)][['类别','服务']]\n",
    "#     data_gy[col_name] = (data_gy[col] - min_c) / (max_c-min_c)\n",
    "    return (data_gy[col_name] - min_c) / (max_c-min_c)\n",
    "print('Yes!')"
   ]
  },
  {
   "cell_type": "raw",
   "metadata": {},
   "source": [
    "# 没有使用\n",
    "data_kw_score = f3(data_kw,'口味')\n",
    "data_rj_score = f3(data_rj,'人均消费')\n",
    "data_xjb_score = f3(data_xjb,'性价比')\n",
    "print('Yes!')\n",
    "#指标标准化得分\n",
    "data_final_q1 = pd.merge(data_kw_score, data_rj_score, left_index = True, right_index = True)\n",
    "data_final_q1 = pd.merge(data_final_q1, data_xjb_score, left_index = True,right_index = True)\n",
    "#数据合并，用index汇总两次 \n",
    "print('数据总量为%i' %len(data_final_q1))\n",
    "print(data_final_q1.head())\n",
    "\n",
    "# 还是在报错，我郁闷，接下来试验直接写标准化(好复杂，还要分组求平均。。。)"
   ]
  },
  {
   "cell_type": "code",
   "execution_count": 219,
   "metadata": {},
   "outputs": [
    {
     "name": "stdout",
     "output_type": "stream",
     "text": [
      "          口味   口味_norm       性价比  性价比_norm        人均消费  人均消费_norm\n",
      "类别                                                               \n",
      "亚菜  7.889937  0.814421  0.317688  0.168333  101.958071   0.358397\n",
      "助餐  7.394745  0.117006  0.236529  0.082422  141.484401   0.544886\n",
      "北菜  7.350125  0.054164  0.572403  0.437962   50.478750   0.115512\n",
      "午茶  7.500000  0.265244  0.158667  0.000000  150.000000   0.585063\n",
      "南菜  7.984874  0.948128  0.325731  0.176847   91.411765   0.308638\n",
      "啡厅  7.630942  0.449659  0.601575  0.468841   46.251325   0.095566\n",
      "川菜  7.489197  0.250029  0.427701  0.284787   64.149872   0.180013\n",
      "州菜  7.772500  0.649026  0.441502  0.299395   71.125000   0.212923\n",
      "常菜  7.311667  0.000000  0.611388  0.479230   46.258333   0.095599\n",
      "快餐  7.361730  0.070508  1.103353  1.000000   25.996115   0.000000\n",
      "料理  7.770436  0.646118  0.403445  0.259110   76.457008   0.238080\n",
      "本菜  7.959824  0.912848  0.287742  0.136633  155.530553   0.611157\n",
      "浙菜  7.503864  0.270686  0.336250  0.187982  102.991499   0.363272\n",
      "海鲜  7.693175  0.537306  0.269551  0.117377  129.958457   0.490505\n",
      "湘菜  7.353606  0.059066  0.482153  0.342427   59.057051   0.155985\n",
      "湾菜  7.607396  0.416498  0.474099  0.333902   84.819527   0.277535\n",
      "火锅  7.949428  0.898206  0.282454  0.131035  108.606867   0.389766\n",
      "烧烤  7.601964  0.408847  0.434532  0.292018   80.174523   0.255619\n",
      "甜点  7.524346  0.299533  1.089565  0.985405   33.337991   0.034640\n",
      "疆菜  7.791221  0.675392  0.611234  0.479066   59.610687   0.158597\n",
      "粤菜  7.635520  0.456107  0.333748  0.185333  129.714356   0.489354\n",
      "素菜  8.021705  1.000000  0.497415  0.358583   78.658915   0.248469\n",
      "美食  7.469031  0.221627  0.626926  0.495677   84.370408   0.275416\n",
      "蟹宴  7.873469  0.791228  0.180064  0.022650  237.945578   1.000000\n",
      "西菜  7.541071  0.323088  0.462461  0.321582   67.339286   0.195061\n",
      "西餐  7.853583  0.763221  0.367199  0.220743  128.028395   0.481399\n",
      "面馆  7.505263  0.272656  0.921746  0.807759   27.947368   0.009206\n",
      "龙虾  7.508283  0.276909  0.285653  0.134422   97.376506   0.336780\n"
     ]
    }
   ],
   "source": [
    "data = data.groupby('类别').mean()\n",
    "data['口味_norm'] = (data['口味'] - data['口味'].min() )/ (data['口味'].max()-data['口味'].min())\n",
    "data['性价比_norm'] = (data['性价比'] - data['性价比'].min() )/ (data['性价比'].max()-data['性价比'].min())\n",
    "data['人均消费_norm'] = (data['人均消费'] - data['人均消费'].min() )/ (data['人均消费'].max()-data['人均消费'].min())\n",
    "data_final_q = data[['口味','口味_norm','性价比','性价比_norm','人均消费','人均消费_norm']]\n",
    "print(data_final_q)"
   ]
  },
  {
   "cell_type": "code",
   "execution_count": 220,
   "metadata": {},
   "outputs": [
    {
     "name": "stdout",
     "output_type": "stream",
     "text": [
      "            kw   kw_norm       xjb  xjb_norm       price  price_norm  \\\n",
      "type                                                                   \n",
      "亚菜    7.889937  0.814421  0.317688  0.168333  101.958071    0.358397   \n",
      "助餐    7.394745  0.117006  0.236529  0.082422  141.484401    0.544886   \n",
      "北菜    7.350125  0.054164  0.572403  0.437962   50.478750    0.115512   \n",
      "午茶    7.500000  0.265244  0.158667  0.000000  150.000000    0.585063   \n",
      "南菜    7.984874  0.948128  0.325731  0.176847   91.411765    0.308638   \n",
      "啡厅    7.630942  0.449659  0.601575  0.468841   46.251325    0.095566   \n",
      "川菜    7.489197  0.250029  0.427701  0.284787   64.149872    0.180013   \n",
      "州菜    7.772500  0.649026  0.441502  0.299395   71.125000    0.212923   \n",
      "常菜    7.311667  0.000000  0.611388  0.479230   46.258333    0.095599   \n",
      "快餐    7.361730  0.070508  1.103353  1.000000   25.996115    0.000000   \n",
      "料理    7.770436  0.646118  0.403445  0.259110   76.457008    0.238080   \n",
      "本菜    7.959824  0.912848  0.287742  0.136633  155.530553    0.611157   \n",
      "浙菜    7.503864  0.270686  0.336250  0.187982  102.991499    0.363272   \n",
      "海鲜    7.693175  0.537306  0.269551  0.117377  129.958457    0.490505   \n",
      "湘菜    7.353606  0.059066  0.482153  0.342427   59.057051    0.155985   \n",
      "湾菜    7.607396  0.416498  0.474099  0.333902   84.819527    0.277535   \n",
      "火锅    7.949428  0.898206  0.282454  0.131035  108.606867    0.389766   \n",
      "烧烤    7.601964  0.408847  0.434532  0.292018   80.174523    0.255619   \n",
      "甜点    7.524346  0.299533  1.089565  0.985405   33.337991    0.034640   \n",
      "疆菜    7.791221  0.675392  0.611234  0.479066   59.610687    0.158597   \n",
      "粤菜    7.635520  0.456107  0.333748  0.185333  129.714356    0.489354   \n",
      "素菜    8.021705  1.000000  0.497415  0.358583   78.658915    0.248469   \n",
      "美食    7.469031  0.221627  0.626926  0.495677   84.370408    0.275416   \n",
      "蟹宴    7.873469  0.791228  0.180064  0.022650  237.945578    1.000000   \n",
      "西菜    7.541071  0.323088  0.462461  0.321582   67.339286    0.195061   \n",
      "西餐    7.853583  0.763221  0.367199  0.220743  128.028395    0.481399   \n",
      "面馆    7.505263  0.272656  0.921746  0.807759   27.947368    0.009206   \n",
      "龙虾    7.508283  0.276909  0.285653  0.134422   97.376506    0.336780   \n",
      "\n",
      "           size  \n",
      "type             \n",
      "亚菜    32.576838  \n",
      "助餐     4.680241  \n",
      "北菜     2.166548  \n",
      "午茶    10.609749  \n",
      "南菜    37.925100  \n",
      "啡厅    17.986344  \n",
      "川菜    10.001178  \n",
      "州菜    25.961024  \n",
      "常菜     0.000000  \n",
      "快餐     2.820309  \n",
      "料理    25.844738  \n",
      "本菜    36.513934  \n",
      "浙菜    10.827427  \n",
      "海鲜    21.492258  \n",
      "湘菜     2.362652  \n",
      "湾菜    16.659923  \n",
      "火锅    35.928242  \n",
      "烧烤    16.353891  \n",
      "甜点    11.981300  \n",
      "疆菜    27.015692  \n",
      "粤菜    18.244289  \n",
      "素菜    40.000000  \n",
      "美食     8.865090  \n",
      "蟹宴    31.649130  \n",
      "西菜    12.923506  \n",
      "西餐    30.528840  \n",
      "面馆    10.906249  \n",
      "龙虾    11.076379  \n"
     ]
    }
   ],
   "source": [
    "# （5）开始以图做参考\n",
    "\n",
    "from bokeh.layouts import gridplot\n",
    "from bokeh.plotting import figure, show, output_file\n",
    "from bokeh.models import ColumnDataSource\n",
    "# 添加Tool工具、十字标线\n",
    "from bokeh.models import HoverTool\n",
    "from bokeh.models.annotations import BoxAnnotation\n",
    "\n",
    "output_file('project07_h1,html')\n",
    "data_final_q['size'] = data_final_q['口味_norm']*40    # 乘以40，只是为了让数字本省扩大一点\n",
    "data_final_q.index.name = 'type'\n",
    "data_final_q.columns = ['kw','kw_norm','xjb','xjb_norm','price','price_norm','size']\n",
    "print(data_final_q)\n",
    "\n",
    "\n",
    "source = ColumnDataSource(data_final_q)   #创建数据\n",
    "hover = HoverTool(tooltips =[('餐饮类型','@type'),\n",
    "                             ('人均消费','@price'),\n",
    "                             ('性价比得分','@xjb_norm'),\n",
    "                             ('口味得分','@kw_norm')])  # 把Tools加到result、kw、price上"
   ]
  },
  {
   "cell_type": "code",
   "execution_count": 221,
   "metadata": {},
   "outputs": [],
   "source": [
    "\n",
    "# 散点图\n",
    "result = figure(plot_width = 800,\n",
    "                plot_height = 300,\n",
    "                title = '餐饮类型得分',\n",
    "                x_axis_label = '人均消费',\n",
    "                y_axis_label = '性价比得分',\n",
    "                tools=[hover,'box_select,reset,xwheel_zoom,pan,crosshair'])\n",
    "result.circle(x= 'price' ,\n",
    "              y = 'xjb_norm',\n",
    "              source = source, \n",
    "              line_color = 'black',\n",
    "              line_dash = [6,4],\n",
    "              fill_alpha = 0.6 ,\n",
    "              size = 'size')\n",
    "\n",
    "# 柱状图1\n",
    "data_type = data_final_q.index.tolist()     # 因为呈现的横坐标为文字，所以先要将index转化成list\n",
    "\n",
    "kw = figure(plot_width = 800,\n",
    "            plot_height = 300,\n",
    "            title = '餐饮类型得分',\n",
    "            x_range = data_type,tools=[hover,'box_select,reset,xwheel_zoom,pan,crosshair'])\n",
    "kw.vbar(x = 'type',top = 'kw_norm',source = source,width = 0.8,alpha = 0.7,color = 'red')\n",
    "\n",
    "# 柱状图2\n",
    "price = figure(plot_width = 800,\n",
    "               plot_height = 300,\n",
    "               title = '人均消费得分',\n",
    "               x_range = data_type,\n",
    "               tools=[hover,'box_select,reset,xwheel_zoom,pan,crosshair'])\n",
    "price.vbar(x = 'type',top = 'price_norm',source = source,width = 0.8,alpha = 0.7,color = 'green')\n",
    "\n",
    "p = gridplot([[result],[kw],[price]])\n",
    "show(p)"
   ]
  },
  {
   "cell_type": "code",
   "execution_count": null,
   "metadata": {},
   "outputs": [],
   "source": []
  },
  {
   "cell_type": "code",
   "execution_count": null,
   "metadata": {},
   "outputs": [],
   "source": []
  },
  {
   "cell_type": "code",
   "execution_count": null,
   "metadata": {},
   "outputs": [],
   "source": []
  }
 ],
 "metadata": {
  "kernelspec": {
   "display_name": "Python 3",
   "language": "python",
   "name": "python3"
  },
  "language_info": {
   "codemirror_mode": {
    "name": "ipython",
    "version": 3
   },
   "file_extension": ".py",
   "mimetype": "text/x-python",
   "name": "python",
   "nbconvert_exporter": "python",
   "pygments_lexer": "ipython3",
   "version": "3.7.1"
  },
  "toc": {
   "base_numbering": 1,
   "nav_menu": {},
   "number_sections": true,
   "sideBar": true,
   "skip_h1_title": false,
   "title_cell": "Table of Contents",
   "title_sidebar": "Contents",
   "toc_cell": false,
   "toc_position": {},
   "toc_section_display": true,
   "toc_window_display": false
  }
 },
 "nbformat": 4,
 "nbformat_minor": 2
}
